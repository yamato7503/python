{
 "cells": [
  {
   "cell_type": "code",
   "execution_count": 2,
   "metadata": {},
   "outputs": [],
   "source": [
    "a = 1\n",
    "b = 1.2\n",
    "c = -0.25\n",
    "d = 1.2e5"
   ]
  },
  {
   "cell_type": "code",
   "execution_count": 3,
   "metadata": {},
   "outputs": [
    {
     "name": "stdout",
     "output_type": "stream",
     "text": [
      "[1 2 3]\n",
      "[-2.3   0.25 -1.2   1.8   0.41]\n"
     ]
    }
   ],
   "source": [
    "import numpy as np\n",
    "\n",
    "a = np.array([1, 2, 3])\n",
    "print(a)\n",
    "\n",
    "b = np.array([-2.3, 0.25, -1.2, 1.8, 0.41])\n",
    "print(b)"
   ]
  },
  {
   "cell_type": "code",
   "execution_count": 9,
   "metadata": {},
   "outputs": [
    {
     "name": "stdout",
     "output_type": "stream",
     "text": [
      "[[1 2 3]\n",
      " [4 5 6]]\n",
      "[[ 0.21  0.14]\n",
      " [-1.3   0.8 ]\n",
      " [ 0.12 -2.1 ]]\n"
     ]
    }
   ],
   "source": [
    "import numpy as np\n",
    "\n",
    "a = np.array([[1, 2, 3], \n",
    "              [4, 5, 6]])\n",
    "print(a)\n",
    "\n",
    "b= np. array([[0.21, 0.14],\n",
    "             [-1.3, 0.8],\n",
    "             [0.12, -2.1]])\n",
    "print(b)"
   ]
  },
  {
   "cell_type": "code",
   "execution_count": 12,
   "metadata": {},
   "outputs": [
    {
     "name": "stdout",
     "output_type": "stream",
     "text": [
      "[[[0 1 2 3]\n",
      "  [2 3 4 5]\n",
      "  [4 5 6 7]]\n",
      "\n",
      " [[1 2 3 4]\n",
      "  [3 4 5 6]\n",
      "  [5 6 7 8]]]\n"
     ]
    }
   ],
   "source": [
    "import numpy as np\n",
    "\n",
    "a = np.array([[[0, 1, 2, 3],\n",
    "               [2, 3, 4, 5],\n",
    "               [4, 5, 6, 7]],\n",
    "              \n",
    "              [[1, 2, 3, 4],\n",
    "              [3, 4, 5, 6],\n",
    "              [5, 6, 7, 8]]])  #(2,3,4)の３階のテンソル\n",
    "print(a)"
   ]
  },
  {
   "cell_type": "code",
   "execution_count": 18,
   "metadata": {},
   "outputs": [
    {
     "name": "stdout",
     "output_type": "stream",
     "text": [
      "1\n",
      "\n",
      "[1 2 3 4]\n",
      "\n",
      "[[4 5 6 7]\n",
      " [7 6 5 4]]\n",
      "\n",
      "[[[1 2 3 4]\n",
      "  [2 3 4 5]\n",
      "  [6 7 8 9]]\n",
      "\n",
      " [[2 3 4 5]\n",
      "  [6 7 8 9]\n",
      "  [3 4 5 6]]]\n"
     ]
    }
   ],
   "source": [
    "import numpy as np\n",
    "\n",
    "a = np.array(1)\n",
    "print(a)\n",
    "print()\n",
    "\n",
    "b = np.array([1, 2, 3, 4])\n",
    "print(b)\n",
    "print()\n",
    "\n",
    "c = np.array([[4, 5, 6, 7],\n",
    "             [7, 6, 5, 4]])\n",
    "print(c)\n",
    "print()\n",
    "              \n",
    "d = np.array([[[1, 2, 3, 4],\n",
    "               [2, 3, 4, 5],\n",
    "               [6, 7, 8, 9]],\n",
    "              [[2, 3, 4, 5],\n",
    "               [6, 7, 8, 9],\n",
    "               [3, 4, 5, 6]]])\n",
    "print(d)\n",
    "             "
   ]
  },
  {
   "cell_type": "code",
   "execution_count": null,
   "metadata": {},
   "outputs": [],
   "source": []
  }
 ],
 "metadata": {
  "kernelspec": {
   "display_name": "Python 3",
   "language": "python",
   "name": "python3"
  },
  "language_info": {
   "codemirror_mode": {
    "name": "ipython",
    "version": 3
   },
   "file_extension": ".py",
   "mimetype": "text/x-python",
   "name": "python",
   "nbconvert_exporter": "python",
   "pygments_lexer": "ipython3",
   "version": "3.7.0"
  }
 },
 "nbformat": 4,
 "nbformat_minor": 2
}
